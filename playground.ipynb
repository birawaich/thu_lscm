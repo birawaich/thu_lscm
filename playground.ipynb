{
 "cells": [
  {
   "cell_type": "markdown",
   "metadata": {},
   "source": [
    "# LSCM Notebook"
   ]
  },
  {
   "cell_type": "code",
   "execution_count": 4,
   "metadata": {},
   "outputs": [
    {
     "data": {
      "text/plain": [
       "1.0416666666666665"
      ]
     },
     "execution_count": 4,
     "metadata": {},
     "output_type": "execute_result"
    }
   ],
   "source": [
    "# MC\n",
    "q = 150\n",
    "qopt = 200\n",
    "\n",
    "0.5*(q/qopt + qopt/q)"
   ]
  },
  {
   "cell_type": "code",
   "execution_count": null,
   "metadata": {},
   "outputs": [],
   "source": [
    "# 1\n",
    "\n",
    "D = 300\n",
    "h = 0.2\n",
    "C =30\n",
    "S = 25\n",
    "P = 400\n",
    "\n"
   ]
  },
  {
   "cell_type": "markdown",
   "metadata": {
    "vscode": {
     "languageId": "plaintext"
    }
   },
   "source": [
    "## Exercises"
   ]
  },
  {
   "cell_type": "code",
   "execution_count": 2,
   "metadata": {},
   "outputs": [
    {
     "name": "stdout",
     "output_type": "stream",
     "text": [
      "Inverse:\t1.2815515655446008\n",
      "Saftey Stock:\t29\n",
      "ROP direct:\t88.88470534549569\n",
      "ROP indirect:\t88.88470534549569\n"
     ]
    }
   ],
   "source": [
    "import statistics\n",
    "import math\n",
    "\n",
    "mu = 60\n",
    "std =math.sqrt(3*36+400*1)\n",
    "dist = statistics.NormalDist(mu,std)\n",
    "\n",
    "# calculate the ROP directly\n",
    "rop_direct = dist.inv_cdf(0.9)\n",
    "\n",
    "# calculate the safety stock\n",
    "f_inv = statistics.NormalDist().inv_cdf(0.9)\n",
    "ss = f_inv*std\n",
    "rop_indirect = ss+ mu\n",
    "\n",
    "# print\n",
    "print(f\"Inverse:\\t{f_inv}\")\n",
    "print(f\"Saftey Stock:\\t{round(ss)}\")\n",
    "print(f\"ROP direct:\\t{rop_direct}\")\n",
    "print(f\"ROP indirect:\\t{rop_indirect}\") \n"
   ]
  },
  {
   "cell_type": "code",
   "execution_count": 3,
   "metadata": {},
   "outputs": [
    {
     "name": "stdout",
     "output_type": "stream",
     "text": [
      "[1.a]\tROP = 519\n",
      "\tss = 18.540284104469038\n",
      "\tesc = 1.389828352472278\n",
      "[1.b]\tfr = 0.9967221029422824\n",
      "\tESC' = 4.240000000000004\n",
      "[1.c]\tss' = 6.817023814351041\n",
      "[2]\tss = 18.390022614502854\n",
      "[2]\tOUL = 268.39002261450287\n",
      "[3]\ts* = 221.04053083932286\n"
     ]
    }
   ],
   "source": [
    "import math\n",
    "import statistics\n",
    "from scipy.optimize import fsolve\n",
    "\n",
    "def calc_esc(ss, std):\n",
    "    \"\"\"ESC based on ss and the standard deviation std\"\"\"\n",
    "    cdf = statistics.NormalDist().cdf(ss/std)\n",
    "    pdf = statistics.NormalDist().pdf(ss/std)\n",
    "        \n",
    "    return -ss*(1-cdf) + std*pdf\n",
    "\n",
    "def task_1():\n",
    "    \"\"\"TASK 1\"\"\"\n",
    "    \n",
    "    # define variables\n",
    "    mu = 100\n",
    "    std = 8\n",
    "    lead_time = 5\n",
    "    order_quantity = 424\n",
    "\n",
    "    # calcualte demand\n",
    "    mubar = lead_time*mu\n",
    "    stdbar = math.sqrt(lead_time)*std\n",
    "    demand = statistics.NormalDist(mubar,stdbar)\n",
    "\n",
    "    # (a)\n",
    "    csl = 0.85\n",
    "    rop = demand.inv_cdf(csl)\n",
    "    print(f\"[1.a]\\tROP = {round(rop)}\")\n",
    "\n",
    "    # (b)\n",
    "    ss = rop - mubar\n",
    "    print(f\"\\tss = {ss}\")\n",
    "\n",
    "    esc = calc_esc(ss, stdbar)\n",
    "    print(f\"\\tesc = {esc}\")\n",
    "\n",
    "    fr = 1 - esc/order_quantity\n",
    "    print(f\"[1.b]\\tfr = {fr}\")\n",
    "\n",
    "    # (c)\n",
    "    fr_new = 0.99\n",
    "    esc_new = - (fr_new-1)*order_quantity\n",
    "    print(f\"\\tESC' = {esc_new}\")\n",
    "    \n",
    "    ss_new = fsolve(lambda ss, std: calc_esc(ss,std) - esc_new\n",
    "                    , ss, args=stdbar)[0]\n",
    "    print(f\"[1.c]\\tss' = {ss_new}\")\n",
    "\n",
    "def task_2():\n",
    "    \"\"\"TASK 2\"\"\"\n",
    "    \n",
    "    # define variables\n",
    "    mu = 50\n",
    "    std = 5\n",
    "    lead_time = 2\n",
    "    review_time = 3\n",
    "    csl = 0.95\n",
    "    \n",
    "    # calculate demand\n",
    "    new_l = lead_time+review_time\n",
    "    mubar = new_l*mu\n",
    "    stdbar = math.sqrt(new_l)*std\n",
    "    demand = statistics.NormalDist(mubar,stdbar)\n",
    "    normalDist = statistics.NormalDist(0,1)\n",
    "    \n",
    "    # calculate values\n",
    "    ss = normalDist.inv_cdf(csl)*stdbar\n",
    "    print(f\"[2]\\tss = {ss}\")\n",
    "    oul = demand.inv_cdf(csl)\n",
    "    print(f\"[2]\\tOUL = {oul}\")\n",
    "    \n",
    "def task_3():\n",
    "    \"\"\"TASK 3\"\"\"\n",
    "    \n",
    "    # variables\n",
    "    mu = 200\n",
    "    sigma = 25\n",
    "    co = 5\n",
    "    cu = 20\n",
    "    \n",
    "    # calculate\n",
    "    demand = statistics.NormalDist(mu,sigma)\n",
    "    s_opt = demand.inv_cdf(cu/(cu+co))\n",
    "    print(f\"[3]\\ts* = {s_opt}\")\n",
    "    \n",
    "# RUN\n",
    "\n",
    "task_1()\n",
    "task_2()\n",
    "task_3()"
   ]
  }
 ],
 "metadata": {
  "kernelspec": {
   "display_name": "LSCM (venv)",
   "language": "python",
   "name": "venv"
  },
  "language_info": {
   "codemirror_mode": {
    "name": "ipython",
    "version": 3
   },
   "file_extension": ".py",
   "mimetype": "text/x-python",
   "name": "python",
   "nbconvert_exporter": "python",
   "pygments_lexer": "ipython3",
   "version": "3.11.0rc1"
  }
 },
 "nbformat": 4,
 "nbformat_minor": 2
}
